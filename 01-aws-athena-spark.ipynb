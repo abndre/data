{
 "cells": [
  {
   "cell_type": "code",
   "execution_count": null,
   "id": "e70c5c24",
   "metadata": {},
   "outputs": [],
   "source": [
    "from pyspark.sql import SparkSession\n",
    "\n",
    "spark = (\n",
    "    SparkSession\n",
    "    .builder\n",
    "    .config(\"spark.jars\",\"https://s3.amazonaws.com/athena-downloads/drivers/JDBC/SimbaAthenaJDBC-2.0.33.1003/AthenaJDBC42-2.0.33.jar\")\n",
    "    .config(\"spark.sql.warehouse.dir\", f\"s3://bucket/athena/spark/\")\n",
    "    .config(\"spark.jars.packages\", \"org.apache.spark:spark-hadoop-cloud_2.12:3.3.0\")\n",
    "    .getOrCreate()\n",
    ")\n",
    "\n",
    "athena_df = (\n",
    "    spark.read.format(\"jdbc\")\n",
    "    .option(\"driver\",\"com.simba.athena.jdbc.Driver\")\n",
    "    .option(\"url\", \"jdbc:awsathena://athena.us-east-1.amazonaws.com:443;Workgroup=athena_workgroup;TimeZone=America/Sao_Paulo;\")\n",
    "    .option(\"AwsCredentialsProviderClass\",\"com.simba.athena.amazonaws.auth.DefaultAWSCredentialsProviderChain\")\n",
    "    .option(\"query\",\"select 1 as test\")\n",
    "    .load()\n",
    ")\n",
    "\n",
    "athena_df.show()"
   ]
  },
  {
   "cell_type": "code",
   "execution_count": null,
   "id": "8f14324a",
   "metadata": {},
   "outputs": [],
   "source": [
    "df = (\n",
    "    spark.read.format(\"jdbc\")\n",
    "    .option(\"driver\",\"com.simba.athena.jdbc.Driver\")\n",
    "    .option(\"url\", \"jdbc:awsathena://athena.us-east-1.amazonaws.com:443;Workgroup=athena_workgroup;TimeZone=America/Sao_Paulo;\")\n",
    "    .option(\"AwsCredentialsProviderClass\",\"com.simba.athena.amazonaws.auth.DefaultAWSCredentialsProviderChain\")\n",
    "    .option(\"query\",\"SELECT * FROM database.tabela_1 limit 10\")\n",
    "    .load()\n",
    ")\n",
    "\n",
    "df.show()"
   ]
  }
 ],
 "metadata": {
  "language_info": {
   "name": "python"
  }
 },
 "nbformat": 4,
 "nbformat_minor": 5
}
